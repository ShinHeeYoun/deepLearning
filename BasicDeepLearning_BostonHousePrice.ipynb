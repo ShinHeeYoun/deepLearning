{
  "nbformat": 4,
  "nbformat_minor": 0,
  "metadata": {
    "colab": {
      "provenance": []
    },
    "kernelspec": {
      "name": "python3",
      "display_name": "Python 3"
    },
    "language_info": {
      "name": "python"
    }
  },
  "cells": [
    {
      "cell_type": "code",
      "execution_count": 98,
      "metadata": {
        "id": "aMA1FHsUHV4N"
      },
      "outputs": [],
      "source": [
        "import tensorflow as tf\n",
        "(x_train, y_train), (x_test, y_test) = tf.keras.datasets.boston_housing.load_data()"
      ]
    },
    {
      "cell_type": "code",
      "source": [
        "x_train.shape\n",
        "# 404개의 데이터 13차원"
      ],
      "metadata": {
        "colab": {
          "base_uri": "https://localhost:8080/"
        },
        "id": "VlKC5On7IEK2",
        "outputId": "57f0856f-6d86-479b-cff3-adac03e761ca"
      },
      "execution_count": 99,
      "outputs": [
        {
          "output_type": "execute_result",
          "data": {
            "text/plain": [
              "(404, 13)"
            ]
          },
          "metadata": {},
          "execution_count": 99
        }
      ]
    },
    {
      "cell_type": "code",
      "source": [
        "x_train[1]\n",
        "# 13개의 숫자로 이루어짐"
      ],
      "metadata": {
        "colab": {
          "base_uri": "https://localhost:8080/"
        },
        "id": "5eCteGN_X6wJ",
        "outputId": "1d9833b8-ada3-45a4-de63-0b6a6c54ebb0"
      },
      "execution_count": 100,
      "outputs": [
        {
          "output_type": "execute_result",
          "data": {
            "text/plain": [
              "array([2.1770e-02, 8.2500e+01, 2.0300e+00, 0.0000e+00, 4.1500e-01,\n",
              "       7.6100e+00, 1.5700e+01, 6.2700e+00, 2.0000e+00, 3.4800e+02,\n",
              "       1.4700e+01, 3.9538e+02, 3.1100e+00])"
            ]
          },
          "metadata": {},
          "execution_count": 100
        }
      ]
    },
    {
      "cell_type": "code",
      "source": [
        "y_train.shape"
      ],
      "metadata": {
        "colab": {
          "base_uri": "https://localhost:8080/"
        },
        "id": "ypOmc9zzIIPD",
        "outputId": "e0d8645b-236e-4306-f7df-2e8199f7d658"
      },
      "execution_count": 101,
      "outputs": [
        {
          "output_type": "execute_result",
          "data": {
            "text/plain": [
              "(404,)"
            ]
          },
          "metadata": {},
          "execution_count": 101
        }
      ]
    },
    {
      "cell_type": "code",
      "source": [
        "y_train[:10]"
      ],
      "metadata": {
        "colab": {
          "base_uri": "https://localhost:8080/"
        },
        "id": "g20ZuHqgYGfc",
        "outputId": "47c40d41-3fd4-40a7-9691-a014eb3410c3"
      },
      "execution_count": 102,
      "outputs": [
        {
          "output_type": "execute_result",
          "data": {
            "text/plain": [
              "array([15.2, 42.3, 50. , 21.1, 17.7, 18.5, 11.3, 15.6, 15.6, 14.4])"
            ]
          },
          "metadata": {},
          "execution_count": 102
        }
      ]
    },
    {
      "cell_type": "code",
      "source": [
        "#set(y_train)\n",
        "#유니크한 인티저는 몇 개인지\n",
        "# 카테고리 분류 문제가 아니기 때문에 유니크한 인티저가 매우 많음"
      ],
      "metadata": {
        "id": "fHDI4NZoITCb"
      },
      "execution_count": 103,
      "outputs": []
    },
    {
      "cell_type": "code",
      "source": [
        "# 보스턴 집값 --> 입력은 13개 | 출력은 1개(집값)\n",
        "#x_train = x_train.reshape(404, (13)) / 255\n",
        "#x_train.shape\n",
        "# Dense layer : 1차원 데이터만 받을 수 있음\n",
        "# 이미지를 1차원 데이터로 바꿔야함"
      ],
      "metadata": {
        "id": "VIAKeK31JD1z"
      },
      "execution_count": 104,
      "outputs": []
    },
    {
      "cell_type": "code",
      "source": [
        "'''\n",
        "from tensorflow.keras.utils import to_categorical\n",
        "y_train = to_categorical(y_train)\n",
        "y_train.shape\n",
        "'''"
      ],
      "metadata": {
        "colab": {
          "base_uri": "https://localhost:8080/",
          "height": 35
        },
        "id": "N_jfyvxqJhX7",
        "outputId": "c2fd8532-7b5f-424b-cb01-58cffae3f4da"
      },
      "execution_count": 105,
      "outputs": [
        {
          "output_type": "execute_result",
          "data": {
            "text/plain": [
              "'\\nfrom tensorflow.keras.utils import to_categorical\\ny_train = to_categorical(y_train)\\ny_train.shape\\n'"
            ],
            "application/vnd.google.colaboratory.intrinsic+json": {
              "type": "string"
            }
          },
          "metadata": {},
          "execution_count": 105
        }
      ]
    },
    {
      "cell_type": "code",
      "source": [
        "from sklearn.preprocessing import StandardScaler, MinMaxScaler\n",
        "print(\"before scaling : \", x_train[:3])\n",
        "# 표준화\n",
        "# 입력 데이터를 학습을 해서 자동으로 표준화 시켜줌\n",
        "sc = StandardScaler()\n",
        "sc.fit(x_train)\n",
        "x_train = sc.transform(x_train)\n",
        "print(\"after scaling : \", x_train[:3])\n",
        "\n",
        "\n",
        "#print(\"\\nbefore scaling : \\n\", y_train[:3])\n",
        "# 표준화\n",
        "# 입력 데이터를 학습을 해서 자동으로 표준화 시켜줌\n",
        "#y_train = y_train.reshape(404,1)\n",
        "#sc = StandardScaler()\n",
        "#sc.fit(y_train)\n",
        "#y_train = sc.transform(y_train)\n",
        "#print(\"\\nafter scaling : \\n\", y_train[:3])"
      ],
      "metadata": {
        "colab": {
          "base_uri": "https://localhost:8080/"
        },
        "id": "ryuxZKnqZyGt",
        "outputId": "b99daa71-d009-4532-af4e-14a0fea1792b"
      },
      "execution_count": 106,
      "outputs": [
        {
          "output_type": "stream",
          "name": "stdout",
          "text": [
            "before scaling :  [[1.23247e+00 0.00000e+00 8.14000e+00 0.00000e+00 5.38000e-01 6.14200e+00\n",
            "  9.17000e+01 3.97690e+00 4.00000e+00 3.07000e+02 2.10000e+01 3.96900e+02\n",
            "  1.87200e+01]\n",
            " [2.17700e-02 8.25000e+01 2.03000e+00 0.00000e+00 4.15000e-01 7.61000e+00\n",
            "  1.57000e+01 6.27000e+00 2.00000e+00 3.48000e+02 1.47000e+01 3.95380e+02\n",
            "  3.11000e+00]\n",
            " [4.89822e+00 0.00000e+00 1.81000e+01 0.00000e+00 6.31000e-01 4.97000e+00\n",
            "  1.00000e+02 1.33250e+00 2.40000e+01 6.66000e+02 2.02000e+01 3.75520e+02\n",
            "  3.26000e+00]]\n",
            "after scaling :  [[-0.27224633 -0.48361547 -0.43576161 -0.25683275 -0.1652266  -0.1764426\n",
            "   0.81306188  0.1166983  -0.62624905 -0.59517003  1.14850044  0.44807713\n",
            "   0.8252202 ]\n",
            " [-0.40342651  2.99178419 -1.33391162 -0.25683275 -1.21518188  1.89434613\n",
            "  -1.91036058  1.24758524 -0.85646254 -0.34843254 -1.71818909  0.43190599\n",
            "  -1.32920239]\n",
            " [ 0.1249402  -0.48361547  1.0283258  -0.25683275  0.62864202 -1.82968811\n",
            "   1.11048828 -1.18743907  1.67588577  1.5652875   0.78447637  0.22061726\n",
            "  -1.30850006]]\n"
          ]
        }
      ]
    },
    {
      "cell_type": "code",
      "source": [
        "from tensorflow import keras\n",
        "from tensorflow.keras import layers\n",
        "model = keras.Sequential()\n",
        "model.add( layers.Dense(64, activation='relu', input_shape=(13,)))\n",
        "model.add( layers.Dense(1, activation='linear'))\n",
        "\n",
        "model.compile(optimizer='rmsprop', loss='mse', metrics=['mae'])"
      ],
      "metadata": {
        "id": "AhKuH9-eJP4f"
      },
      "execution_count": 107,
      "outputs": []
    },
    {
      "cell_type": "code",
      "source": [
        "model.fit(x_train, y_train, epochs = 25)"
      ],
      "metadata": {
        "colab": {
          "base_uri": "https://localhost:8080/"
        },
        "id": "L-WhyBVNKu0-",
        "outputId": "59fbfba8-d543-4f72-9e3c-3a4cd1baa0b9"
      },
      "execution_count": 108,
      "outputs": [
        {
          "output_type": "stream",
          "name": "stdout",
          "text": [
            "Epoch 1/25\n",
            "13/13 [==============================] - 1s 4ms/step - loss: 585.1753 - mae: 22.3430\n",
            "Epoch 2/25\n",
            "13/13 [==============================] - 0s 4ms/step - loss: 553.4265 - mae: 21.7005\n",
            "Epoch 3/25\n",
            "13/13 [==============================] - 0s 3ms/step - loss: 527.9500 - mae: 21.1599\n",
            "Epoch 4/25\n",
            "13/13 [==============================] - 0s 3ms/step - loss: 503.7956 - mae: 20.6284\n",
            "Epoch 5/25\n",
            "13/13 [==============================] - 0s 4ms/step - loss: 479.2693 - mae: 20.0822\n",
            "Epoch 6/25\n",
            "13/13 [==============================] - 0s 3ms/step - loss: 454.6451 - mae: 19.5022\n",
            "Epoch 7/25\n",
            "13/13 [==============================] - 0s 3ms/step - loss: 430.0250 - mae: 18.9083\n",
            "Epoch 8/25\n",
            "13/13 [==============================] - 0s 3ms/step - loss: 405.1831 - mae: 18.2854\n",
            "Epoch 9/25\n",
            "13/13 [==============================] - 0s 3ms/step - loss: 380.2724 - mae: 17.6293\n",
            "Epoch 10/25\n",
            "13/13 [==============================] - 0s 4ms/step - loss: 355.3135 - mae: 16.9528\n",
            "Epoch 11/25\n",
            "13/13 [==============================] - 0s 4ms/step - loss: 330.4488 - mae: 16.2629\n",
            "Epoch 12/25\n",
            "13/13 [==============================] - 0s 3ms/step - loss: 305.5519 - mae: 15.5253\n",
            "Epoch 13/25\n",
            "13/13 [==============================] - 0s 3ms/step - loss: 281.4330 - mae: 14.7805\n",
            "Epoch 14/25\n",
            "13/13 [==============================] - 0s 3ms/step - loss: 257.4361 - mae: 14.0178\n",
            "Epoch 15/25\n",
            "13/13 [==============================] - 0s 3ms/step - loss: 233.6806 - mae: 13.2184\n",
            "Epoch 16/25\n",
            "13/13 [==============================] - 0s 3ms/step - loss: 211.1895 - mae: 12.3937\n",
            "Epoch 17/25\n",
            "13/13 [==============================] - 0s 3ms/step - loss: 189.6105 - mae: 11.5873\n",
            "Epoch 18/25\n",
            "13/13 [==============================] - 0s 3ms/step - loss: 168.9989 - mae: 10.7787\n",
            "Epoch 19/25\n",
            "13/13 [==============================] - 0s 3ms/step - loss: 150.2080 - mae: 10.0026\n",
            "Epoch 20/25\n",
            "13/13 [==============================] - 0s 3ms/step - loss: 132.8276 - mae: 9.2716\n",
            "Epoch 21/25\n",
            "13/13 [==============================] - 0s 3ms/step - loss: 116.9532 - mae: 8.5901\n",
            "Epoch 22/25\n",
            "13/13 [==============================] - 0s 3ms/step - loss: 103.3575 - mae: 7.9833\n",
            "Epoch 23/25\n",
            "13/13 [==============================] - 0s 3ms/step - loss: 90.9622 - mae: 7.4043\n",
            "Epoch 24/25\n",
            "13/13 [==============================] - 0s 3ms/step - loss: 80.0500 - mae: 6.8785\n",
            "Epoch 25/25\n",
            "13/13 [==============================] - 0s 2ms/step - loss: 70.4707 - mae: 6.3827\n"
          ]
        },
        {
          "output_type": "execute_result",
          "data": {
            "text/plain": [
              "<keras.src.callbacks.History at 0x7ee68ab698d0>"
            ]
          },
          "metadata": {},
          "execution_count": 108
        }
      ]
    }
  ]
}