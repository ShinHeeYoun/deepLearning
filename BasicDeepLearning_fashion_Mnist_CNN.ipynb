{
  "nbformat": 4,
  "nbformat_minor": 0,
  "metadata": {
    "colab": {
      "provenance": [],
      "gpuType": "T4"
    },
    "kernelspec": {
      "name": "python3",
      "display_name": "Python 3"
    },
    "language_info": {
      "name": "python"
    },
    "accelerator": "GPU"
  },
  "cells": [
    {
      "cell_type": "code",
      "execution_count": 18,
      "metadata": {
        "colab": {
          "base_uri": "https://localhost:8080/"
        },
        "id": "aMA1FHsUHV4N",
        "outputId": "ae5e24a3-2431-42a4-e567-91c9792e884f"
      },
      "outputs": [
        {
          "output_type": "stream",
          "name": "stdout",
          "text": [
            "Downloading data from https://storage.googleapis.com/tensorflow/tf-keras-datasets/train-labels-idx1-ubyte.gz\n",
            "29515/29515 [==============================] - 0s 1us/step\n",
            "Downloading data from https://storage.googleapis.com/tensorflow/tf-keras-datasets/train-images-idx3-ubyte.gz\n",
            "26421880/26421880 [==============================] - 2s 0us/step\n",
            "Downloading data from https://storage.googleapis.com/tensorflow/tf-keras-datasets/t10k-labels-idx1-ubyte.gz\n",
            "5148/5148 [==============================] - 0s 0us/step\n",
            "Downloading data from https://storage.googleapis.com/tensorflow/tf-keras-datasets/t10k-images-idx3-ubyte.gz\n",
            "4422102/4422102 [==============================] - 1s 0us/step\n"
          ]
        }
      ],
      "source": [
        "import tensorflow as tf\n",
        "(x_train, y_train), (x_test, y_test) = tf.keras.datasets.fashion_mnist.load_data()\n"
      ]
    },
    {
      "cell_type": "code",
      "source": [
        "x_train.shape\n",
        "#입력 모양새 : (60000, 28, 28) --> 입력 (28, 28) 이미지 60000장"
      ],
      "metadata": {
        "colab": {
          "base_uri": "https://localhost:8080/"
        },
        "id": "VlKC5On7IEK2",
        "outputId": "fa4baed2-beb6-4864-efc0-6274344b81ce"
      },
      "execution_count": 19,
      "outputs": [
        {
          "output_type": "execute_result",
          "data": {
            "text/plain": [
              "(60000, 28, 28)"
            ]
          },
          "metadata": {},
          "execution_count": 19
        }
      ]
    },
    {
      "cell_type": "code",
      "source": [
        "y_train.shape"
      ],
      "metadata": {
        "colab": {
          "base_uri": "https://localhost:8080/"
        },
        "id": "ypOmc9zzIIPD",
        "outputId": "40111512-5835-479f-b49e-fa4a27dd35c2"
      },
      "execution_count": 20,
      "outputs": [
        {
          "output_type": "execute_result",
          "data": {
            "text/plain": [
              "(60000,)"
            ]
          },
          "metadata": {},
          "execution_count": 20
        }
      ]
    },
    {
      "cell_type": "code",
      "source": [
        "set(y_train)\n",
        "#유니크한 인티저는 몇 개인지"
      ],
      "metadata": {
        "colab": {
          "base_uri": "https://localhost:8080/"
        },
        "id": "fHDI4NZoITCb",
        "outputId": "48672248-646e-4d54-d26e-3c96f11ef68a"
      },
      "execution_count": 21,
      "outputs": [
        {
          "output_type": "execute_result",
          "data": {
            "text/plain": [
              "{0, 1, 2, 3, 4, 5, 6, 7, 8, 9}"
            ]
          },
          "metadata": {},
          "execution_count": 21
        }
      ]
    },
    {
      "cell_type": "code",
      "source": [
        "# 입력값 변환\n",
        "x_train = x_train.reshape(60000, 28,28, 1) / 255\n",
        "#ConvD를 사용해야 해서 3차원으로 변환\n",
        "# 255로 나누면 숫자가 0과 1 사이의 숫자로 바뀌기 때문에 학습에 용이함\n",
        "x_train.shape"
      ],
      "metadata": {
        "colab": {
          "base_uri": "https://localhost:8080/"
        },
        "id": "VIAKeK31JD1z",
        "outputId": "46b08968-ae81-44bc-f230-82f63619250d"
      },
      "execution_count": 22,
      "outputs": [
        {
          "output_type": "execute_result",
          "data": {
            "text/plain": [
              "(60000, 28, 28, 1)"
            ]
          },
          "metadata": {},
          "execution_count": 22
        }
      ]
    },
    {
      "cell_type": "code",
      "source": [
        "# 출력값 변환\n",
        "from tensorflow.keras.utils import to_categorical\n",
        "y_train = to_categorical(y_train)\n",
        "y_train.shape"
      ],
      "metadata": {
        "colab": {
          "base_uri": "https://localhost:8080/"
        },
        "id": "N_jfyvxqJhX7",
        "outputId": "afc25d3b-c4fc-4f05-c341-f2e4996c683c"
      },
      "execution_count": 23,
      "outputs": [
        {
          "output_type": "execute_result",
          "data": {
            "text/plain": [
              "(60000, 10)"
            ]
          },
          "metadata": {},
          "execution_count": 23
        }
      ]
    },
    {
      "cell_type": "code",
      "source": [
        "from tensorflow import keras\n",
        "from tensorflow.keras import layers\n",
        "model = keras.Sequential()\n",
        "\n",
        "# Conv2D : 2차원 데이터를 그대로 받음 (3차원 데이터를 받기 때문에 28,28 뒤에 ,1을 추가해서 2차원으로 변환)\n",
        "# 28x28 크기의 판을 3x3 판으로 이동하면서 분석\n",
        "model.add( layers.Conv2D(512, (3,3), activation='relu', input_shape=(28,28, 1)))\n",
        "\n",
        "# model.summary()  #모델 정보 보기\n",
        "\n",
        "# 모델 정보에서 (None, 26, 26, 512)으로 이미지가 줄어듬 (왜? 3x3 필더로 28칸을 훑으면 26번 --> 맨앞과 맨뒤 잘림)\n",
        "# padding='same'을 추가해서 잘림 방지 가능\n",
        "# model.add( layers.Conv2D(512, (3,3), padding='same', activation='relu', input_shape=(28,28, 1)))\n",
        "\n",
        "# 원래 판이 한칸씩 슬라이드 하지만 두칸씩 슬라이드 하고 싶을때 --> strides=(2,2)\n",
        "# model.add( layers.Conv2D(512, (3,3), strides=(2,2), activation='relu', input_shape=(28,28, 1)))\n",
        "\n",
        "# 2차원 데이터를 분석했기 때문에 param 크기가 32만개로 나옴\n",
        "# 이를 줄이기 위해 MaxPooling2D 사용 --> 8만개로 줄어듬\n",
        "# (2,2) 를 (3,3)로 바꾸면 더 줄어듬\n",
        "model.add( layers.MaxPooling2D(2,2))\n",
        "\n",
        "# 1차원으로 변경 필요 --> Flatten\n",
        "model.add( layers.Flatten())\n",
        "\n",
        "model.add( layers.Dense(64, activation='relu'))\n",
        "model.add( layers.Dense(10, activation='softmax'))\n",
        "\n",
        "\n",
        "model.summary()\n",
        "\n",
        "model.compile(optimizer='rmsprop', loss='categorical_crossentropy', metrics=['accuracy'])"
      ],
      "metadata": {
        "colab": {
          "base_uri": "https://localhost:8080/"
        },
        "id": "AhKuH9-eJP4f",
        "outputId": "0a18e3e1-b4f5-49ff-d85c-c62e1f5531b1"
      },
      "execution_count": 24,
      "outputs": [
        {
          "output_type": "stream",
          "name": "stdout",
          "text": [
            "Model: \"sequential_3\"\n",
            "_________________________________________________________________\n",
            " Layer (type)                Output Shape              Param #   \n",
            "=================================================================\n",
            " conv2d_3 (Conv2D)           (None, 26, 26, 512)       5120      \n",
            "                                                                 \n",
            " max_pooling2d_3 (MaxPoolin  (None, 13, 13, 512)       0         \n",
            " g2D)                                                            \n",
            "                                                                 \n",
            " flatten_3 (Flatten)         (None, 86528)             0         \n",
            "                                                                 \n",
            " dense_6 (Dense)             (None, 64)                5537856   \n",
            "                                                                 \n",
            " dense_7 (Dense)             (None, 10)                650       \n",
            "                                                                 \n",
            "=================================================================\n",
            "Total params: 5543626 (21.15 MB)\n",
            "Trainable params: 5543626 (21.15 MB)\n",
            "Non-trainable params: 0 (0.00 Byte)\n",
            "_________________________________________________________________\n"
          ]
        }
      ]
    },
    {
      "cell_type": "code",
      "source": [
        "model.fit(x_train, y_train, epochs = 5)"
      ],
      "metadata": {
        "colab": {
          "base_uri": "https://localhost:8080/"
        },
        "id": "L-WhyBVNKu0-",
        "outputId": "2df00412-0c5b-4de4-dc38-85adf65f3f50"
      },
      "execution_count": null,
      "outputs": [
        {
          "output_type": "stream",
          "name": "stdout",
          "text": [
            "Epoch 1/5\n",
            "1875/1875 [==============================] - 12s 6ms/step - loss: 0.3881 - accuracy: 0.8616\n",
            "Epoch 2/5\n",
            "1808/1875 [===========================>..] - ETA: 0s - loss: 0.2620 - accuracy: 0.9041"
          ]
        }
      ]
    }
  ]
}