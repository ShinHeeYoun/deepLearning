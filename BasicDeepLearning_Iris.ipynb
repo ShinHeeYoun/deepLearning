{
  "nbformat": 4,
  "nbformat_minor": 0,
  "metadata": {
    "colab": {
      "provenance": []
    },
    "kernelspec": {
      "name": "python3",
      "display_name": "Python 3"
    },
    "language_info": {
      "name": "python"
    }
  },
  "cells": [
    {
      "cell_type": "code",
      "source": [
        "from sklearn import datasets\n",
        "iris = datasets.load_iris()"
      ],
      "metadata": {
        "id": "-NZHZRtsc-qD"
      },
      "execution_count": null,
      "outputs": []
    },
    {
      "cell_type": "code",
      "source": [
        "type(iris)"
      ],
      "metadata": {
        "colab": {
          "base_uri": "https://localhost:8080/"
        },
        "id": "7d-S_xsVdFlH",
        "outputId": "d1bf3091-fd60-49b4-dd03-e0d45109c500"
      },
      "execution_count": null,
      "outputs": [
        {
          "output_type": "execute_result",
          "data": {
            "text/plain": [
              "sklearn.utils._bunch.Bunch"
            ]
          },
          "metadata": {},
          "execution_count": 31
        }
      ]
    },
    {
      "cell_type": "code",
      "execution_count": null,
      "metadata": {
        "id": "3F7wGa2-cdwf"
      },
      "outputs": [],
      "source": [
        "from sklearn.model_selection._split import train_test_split\n",
        "\n",
        "x = iris.data[:, :3]\n",
        "y= iris.target\n",
        "\n",
        "x_train, x_test, y_train, y_test = train_test_split(x, y, test_size = 0.3)"
      ]
    },
    {
      "cell_type": "code",
      "source": [
        "x_train.shape"
      ],
      "metadata": {
        "colab": {
          "base_uri": "https://localhost:8080/"
        },
        "id": "CChyvOebcw4B",
        "outputId": "4bc302e6-eb74-4979-cf02-4a795fb3ea8e"
      },
      "execution_count": null,
      "outputs": [
        {
          "output_type": "execute_result",
          "data": {
            "text/plain": [
              "(105, 3)"
            ]
          },
          "metadata": {},
          "execution_count": 33
        }
      ]
    },
    {
      "cell_type": "code",
      "source": [
        "y_train.shape"
      ],
      "metadata": {
        "colab": {
          "base_uri": "https://localhost:8080/"
        },
        "id": "tTcv83wicziZ",
        "outputId": "269a42c2-fcd1-4471-a8d6-aa5c6b6c2762"
      },
      "execution_count": null,
      "outputs": [
        {
          "output_type": "execute_result",
          "data": {
            "text/plain": [
              "(105,)"
            ]
          },
          "metadata": {},
          "execution_count": 34
        }
      ]
    },
    {
      "cell_type": "code",
      "source": [
        "set(y_train)"
      ],
      "metadata": {
        "colab": {
          "base_uri": "https://localhost:8080/"
        },
        "id": "OzeTti8Bc3S8",
        "outputId": "49d0c6d3-d7fb-48ec-c991-dada8fb7c38d"
      },
      "execution_count": null,
      "outputs": [
        {
          "output_type": "execute_result",
          "data": {
            "text/plain": [
              "{0, 1, 2}"
            ]
          },
          "metadata": {},
          "execution_count": 35
        }
      ]
    },
    {
      "cell_type": "code",
      "source": [
        "from tensorflow.keras.utils import to_categorical\n",
        "y_train = to_categorical(y_train)\n",
        "y_train.shape"
      ],
      "metadata": {
        "colab": {
          "base_uri": "https://localhost:8080/"
        },
        "id": "IS73Wa0PeVJN",
        "outputId": "d01a5af6-b33d-4d43-9ac1-0a75f01d185b"
      },
      "execution_count": null,
      "outputs": [
        {
          "output_type": "execute_result",
          "data": {
            "text/plain": [
              "(105, 3)"
            ]
          },
          "metadata": {},
          "execution_count": 36
        }
      ]
    },
    {
      "cell_type": "code",
      "source": [
        "from tensorflow import keras\n",
        "from tensorflow.keras import layers\n",
        "\n",
        "model = keras.Sequential()\n",
        "model.add( layers.Dense(64, activation='relu', input_shape=(3,)))\n",
        "model.add( layers.Dense(3, activation='softmax'))\n",
        "\n",
        "model.compile(optimizer='rmsprop', loss='categorical_crossentropy', metrics=['accuracy'])"
      ],
      "metadata": {
        "id": "Q0AigIz8djW-"
      },
      "execution_count": null,
      "outputs": []
    },
    {
      "cell_type": "code",
      "source": [
        "model.fit(x_train, y_train, epochs = 5)"
      ],
      "metadata": {
        "colab": {
          "base_uri": "https://localhost:8080/"
        },
        "id": "SumtyY0ld66-",
        "outputId": "f4c5759d-73bf-497c-96b5-f29c04781301"
      },
      "execution_count": null,
      "outputs": [
        {
          "output_type": "stream",
          "name": "stdout",
          "text": [
            "Epoch 1/5\n",
            "4/4 [==============================] - 0s 4ms/step - loss: 1.4481 - accuracy: 0.2381\n",
            "Epoch 2/5\n",
            "4/4 [==============================] - 0s 4ms/step - loss: 1.1926 - accuracy: 0.1429\n",
            "Epoch 3/5\n",
            "4/4 [==============================] - 0s 7ms/step - loss: 1.0958 - accuracy: 0.4381\n",
            "Epoch 4/5\n",
            "4/4 [==============================] - 0s 4ms/step - loss: 1.0293 - accuracy: 0.5810\n",
            "Epoch 5/5\n",
            "4/4 [==============================] - 0s 3ms/step - loss: 0.9851 - accuracy: 0.7048\n"
          ]
        },
        {
          "output_type": "execute_result",
          "data": {
            "text/plain": [
              "<keras.src.callbacks.History at 0x7a0da459e500>"
            ]
          },
          "metadata": {},
          "execution_count": 38
        }
      ]
    }
  ]
}