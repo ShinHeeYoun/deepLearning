{
  "nbformat": 4,
  "nbformat_minor": 0,
  "metadata": {
    "colab": {
      "provenance": [],
      "gpuType": "T4"
    },
    "kernelspec": {
      "name": "python3",
      "display_name": "Python 3"
    },
    "language_info": {
      "name": "python"
    },
    "accelerator": "GPU"
  },
  "cells": [
    {
      "cell_type": "code",
      "execution_count": 10,
      "metadata": {
        "id": "aMA1FHsUHV4N"
      },
      "outputs": [],
      "source": [
        "import tensorflow as tf\n",
        "(x_train, y_train), (x_test, y_test) = tf.keras.datasets.mnist.load_data()\n"
      ]
    },
    {
      "cell_type": "code",
      "source": [
        "x_train.shape\n",
        "#입력 모양새 : (60000, 28, 28) --> 입력 (28, 28) 이미지 60000장"
      ],
      "metadata": {
        "colab": {
          "base_uri": "https://localhost:8080/"
        },
        "id": "VlKC5On7IEK2",
        "outputId": "d52f9e76-3640-4726-adc5-d1e1c7bbadf0"
      },
      "execution_count": 11,
      "outputs": [
        {
          "output_type": "execute_result",
          "data": {
            "text/plain": [
              "(60000, 28, 28)"
            ]
          },
          "metadata": {},
          "execution_count": 11
        }
      ]
    },
    {
      "cell_type": "code",
      "source": [
        "y_train.shape"
      ],
      "metadata": {
        "colab": {
          "base_uri": "https://localhost:8080/"
        },
        "id": "ypOmc9zzIIPD",
        "outputId": "0f8329ac-9f25-4502-86cd-d007a837c575"
      },
      "execution_count": 12,
      "outputs": [
        {
          "output_type": "execute_result",
          "data": {
            "text/plain": [
              "(60000,)"
            ]
          },
          "metadata": {},
          "execution_count": 12
        }
      ]
    },
    {
      "cell_type": "code",
      "source": [
        "set(y_train)\n",
        "#유니크한 인티저는 몇 개인지"
      ],
      "metadata": {
        "colab": {
          "base_uri": "https://localhost:8080/"
        },
        "id": "fHDI4NZoITCb",
        "outputId": "6f6c9108-a682-4b56-d671-0bab72e0e94a"
      },
      "execution_count": 13,
      "outputs": [
        {
          "output_type": "execute_result",
          "data": {
            "text/plain": [
              "{0, 1, 2, 3, 4, 5, 6, 7, 8, 9}"
            ]
          },
          "metadata": {},
          "execution_count": 13
        }
      ]
    },
    {
      "cell_type": "code",
      "source": [
        "# 입력값 변환\n",
        "x_train = x_train.reshape(60000, 28,28, 1) / 255\n",
        "#ConvD를 사용해야 해서 3차원으로 변환\n",
        "# 255로 나누면 숫자가 0과 1 사이의 숫자로 바뀌기 때문에 학습에 용이함\n",
        "x_train.shape"
      ],
      "metadata": {
        "colab": {
          "base_uri": "https://localhost:8080/"
        },
        "id": "VIAKeK31JD1z",
        "outputId": "dec417a6-59c9-4570-b0f4-3893de703d71"
      },
      "execution_count": 14,
      "outputs": [
        {
          "output_type": "execute_result",
          "data": {
            "text/plain": [
              "(60000, 28, 28, 1)"
            ]
          },
          "metadata": {},
          "execution_count": 14
        }
      ]
    },
    {
      "cell_type": "code",
      "source": [
        "# 출력값 변환\n",
        "from tensorflow.keras.utils import to_categorical\n",
        "y_train = to_categorical(y_train)\n",
        "y_train.shape"
      ],
      "metadata": {
        "colab": {
          "base_uri": "https://localhost:8080/"
        },
        "id": "N_jfyvxqJhX7",
        "outputId": "df28a797-95e8-4e0a-c8ae-8541fdf81298"
      },
      "execution_count": 15,
      "outputs": [
        {
          "output_type": "execute_result",
          "data": {
            "text/plain": [
              "(60000, 10)"
            ]
          },
          "metadata": {},
          "execution_count": 15
        }
      ]
    },
    {
      "cell_type": "code",
      "source": [
        "from tensorflow import keras\n",
        "from tensorflow.keras import layers\n",
        "model = keras.Sequential()\n",
        "\n",
        "# Conv2D : 2차원 데이터를 그대로 받음 (3차원 데이터를 받기 때문에 28,28 뒤에 ,1을 추가해서 2차원으로 변환)\n",
        "# 28x28 크기의 판을 3x3 판으로 이동하면서 분석\n",
        "model.add( layers.Conv2D(512, (3,3), activation='relu', input_shape=(28,28, 1)))\n",
        "\n",
        "# model.summary()  #모델 정보 보기\n",
        "\n",
        "# 모델 정보에서 (None, 26, 26, 512)으로 이미지가 줄어듬 (왜? 3x3 필더로 28칸을 훑으면 26번 --> 맨앞과 맨뒤 잘림)\n",
        "# padding='same'을 추가해서 잘림 방지 가능\n",
        "# model.add( layers.Conv2D(512, (3,3), padding='same', activation='relu', input_shape=(28,28, 1)))\n",
        "\n",
        "# 원래 판이 한칸씩 슬라이드 하지만 두칸씩 슬라이드 하고 싶을때 --> strides=(2,2)\n",
        "# model.add( layers.Conv2D(512, (3,3), strides=(2,2), activation='relu', input_shape=(28,28, 1)))\n",
        "\n",
        "# 2차원 데이터를 분석했기 때문에 param 크기가 32만개로 나옴\n",
        "# 이를 줄이기 위해 MaxPooling2D 사용 --> 8만개로 줄어듬\n",
        "# (2,2) 를 (3,3)로 바꾸면 더 줄어듬\n",
        "model.add( layers.MaxPooling2D(2,2))\n",
        "\n",
        "# 1차원으로 변경 필요 --> Flatten\n",
        "model.add( layers.Flatten())\n",
        "\n",
        "model.add( layers.Dense(64, activation='relu'))\n",
        "model.add( layers.Dense(10, activation='softmax'))\n",
        "\n",
        "\n",
        "model.summary()\n",
        "\n",
        "model.compile(optimizer='rmsprop', loss='categorical_crossentropy', metrics=['accuracy'])"
      ],
      "metadata": {
        "colab": {
          "base_uri": "https://localhost:8080/"
        },
        "id": "AhKuH9-eJP4f",
        "outputId": "161aa3d7-de7d-406c-b233-ada1c2f8bc4c"
      },
      "execution_count": 16,
      "outputs": [
        {
          "output_type": "stream",
          "name": "stdout",
          "text": [
            "Model: \"sequential_2\"\n",
            "_________________________________________________________________\n",
            " Layer (type)                Output Shape              Param #   \n",
            "=================================================================\n",
            " conv2d_2 (Conv2D)           (None, 26, 26, 512)       5120      \n",
            "                                                                 \n",
            "=================================================================\n",
            "Total params: 5120 (20.00 KB)\n",
            "Trainable params: 5120 (20.00 KB)\n",
            "Non-trainable params: 0 (0.00 Byte)\n",
            "_________________________________________________________________\n",
            "Model: \"sequential_2\"\n",
            "_________________________________________________________________\n",
            " Layer (type)                Output Shape              Param #   \n",
            "=================================================================\n",
            " conv2d_2 (Conv2D)           (None, 26, 26, 512)       5120      \n",
            "                                                                 \n",
            " max_pooling2d_2 (MaxPoolin  (None, 13, 13, 512)       0         \n",
            " g2D)                                                            \n",
            "                                                                 \n",
            " flatten_2 (Flatten)         (None, 86528)             0         \n",
            "                                                                 \n",
            " dense_4 (Dense)             (None, 64)                5537856   \n",
            "                                                                 \n",
            " dense_5 (Dense)             (None, 10)                650       \n",
            "                                                                 \n",
            "=================================================================\n",
            "Total params: 5543626 (21.15 MB)\n",
            "Trainable params: 5543626 (21.15 MB)\n",
            "Non-trainable params: 0 (0.00 Byte)\n",
            "_________________________________________________________________\n"
          ]
        }
      ]
    },
    {
      "cell_type": "code",
      "source": [
        "model.fit(x_train, y_train, epochs = 5)"
      ],
      "metadata": {
        "colab": {
          "base_uri": "https://localhost:8080/"
        },
        "id": "L-WhyBVNKu0-",
        "outputId": "a4c98f9d-b8ca-4cd6-b064-b0d63fd5af42"
      },
      "execution_count": null,
      "outputs": [
        {
          "output_type": "stream",
          "name": "stdout",
          "text": [
            "Epoch 1/5\n",
            "1875/1875 [==============================] - 12s 6ms/step - loss: 0.1553 - accuracy: 0.9535\n",
            "Epoch 2/5\n",
            "1875/1875 [==============================] - 11s 6ms/step - loss: 0.0553 - accuracy: 0.9837\n",
            "Epoch 3/5\n",
            "1875/1875 [==============================] - 11s 6ms/step - loss: 0.0380 - accuracy: 0.9883\n",
            "Epoch 4/5\n",
            "1875/1875 [==============================] - 11s 6ms/step - loss: 0.0279 - accuracy: 0.9916\n",
            "Epoch 5/5\n",
            "1875/1875 [==============================] - 11s 6ms/step - loss: 0.0202 - accuracy: 0.9940\n"
          ]
        }
      ]
    }
  ]
}