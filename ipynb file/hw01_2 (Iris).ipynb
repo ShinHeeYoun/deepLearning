{
  "nbformat": 4,
  "nbformat_minor": 0,
  "metadata": {
    "colab": {
      "provenance": []
    },
    "kernelspec": {
      "name": "python3",
      "display_name": "Python 3"
    },
    "language_info": {
      "name": "python"
    }
  },
  "cells": [
    {
      "cell_type": "markdown",
      "source": [
        "데이터명 : IRIS (아이리스, 붗꽃 데이터)  \n",
        "레코드수 : 150개\n",
        "필드개수 : 4개\n",
        "\n",
        "데이터설명 : 아이리스(붓꽃) 데이터에 대한 데이터이다. 꽃잎의 각 부분의 너비와 길이등을 측정한 데이터이며 150개의 레코드로 구성되어 있다. 아이리스 꽃은 아래의 그림과 같다. 프랑스의 국화라고 한다.\n",
        "\n",
        "\n",
        "사용자 삽입 이미지\n",
        "\n",
        "필드의 이해 :\n",
        "데이터의 이해를 돕기 위해 포함된 4개의 변수에 대하여 간략하게 설명한다.  \n",
        "총 4개의 필드로 구성되어있다.\n",
        "\n",
        " Sepal Length\t꽃받침의 길이 정보이다.\n",
        "\n",
        " Sepal Width\t꽃받침의 너비 정보이다.\n",
        "\n",
        " Petal Length\t꽃잎의 길이 정보이다.\n",
        "\n",
        " Petal Width\t꽃잎의 너비 정보이다.  "
      ],
      "metadata": {
        "id": "qhXYsxx4-t8t"
      }
    },
    {
      "cell_type": "code",
      "execution_count": null,
      "metadata": {
        "id": "e8LhnVKA7_J_"
      },
      "outputs": [],
      "source": [
        "from sklearn import datasets\n",
        "iris = datasets.load_iris()"
      ]
    },
    {
      "cell_type": "code",
      "source": [
        "type(iris)"
      ],
      "metadata": {
        "colab": {
          "base_uri": "https://localhost:8080/"
        },
        "id": "nzpb97-7lM9_",
        "outputId": "a546a42a-de19-43e2-afae-2b1c2cfe79d7"
      },
      "execution_count": null,
      "outputs": [
        {
          "output_type": "execute_result",
          "data": {
            "text/plain": [
              "sklearn.utils._bunch.Bunch"
            ]
          },
          "metadata": {},
          "execution_count": 24
        }
      ]
    },
    {
      "cell_type": "code",
      "source": [
        "from sklearn.model_selection._split import train_test_split\n",
        "\n",
        "x = iris.data[:, :3]\n",
        "y= iris.target\n",
        "\n",
        "x_train, x_test, y_train, y_test = train_test_split(x, y, test_size = 0.3)"
      ],
      "metadata": {
        "id": "zRfvV8cclQPK"
      },
      "execution_count": null,
      "outputs": []
    },
    {
      "cell_type": "code",
      "source": [
        "#train_data.shape\n",
        "x_train.shape"
      ],
      "metadata": {
        "id": "5V0iwWU28Ngp",
        "colab": {
          "base_uri": "https://localhost:8080/"
        },
        "outputId": "bfbe1385-6cb1-4107-8f67-5a961ab9f217"
      },
      "execution_count": null,
      "outputs": [
        {
          "output_type": "execute_result",
          "data": {
            "text/plain": [
              "(105, 3)"
            ]
          },
          "metadata": {},
          "execution_count": 26
        }
      ]
    },
    {
      "cell_type": "code",
      "source": [
        "#train_label.shape\n",
        "y_train.shape\n",
        "set(y_train)"
      ],
      "metadata": {
        "id": "UKT_douo8PEW",
        "colab": {
          "base_uri": "https://localhost:8080/"
        },
        "outputId": "96749185-6f9c-4490-b9c3-468a2141f37e"
      },
      "execution_count": null,
      "outputs": [
        {
          "output_type": "execute_result",
          "data": {
            "text/plain": [
              "{0, 1, 2}"
            ]
          },
          "metadata": {},
          "execution_count": 27
        }
      ]
    },
    {
      "cell_type": "code",
      "source": [
        "#train_data[0:5]"
      ],
      "metadata": {
        "id": "y66vw2NO8ShU"
      },
      "execution_count": null,
      "outputs": []
    },
    {
      "cell_type": "code",
      "source": [
        "#train_label[0:5]\n",
        "from tensorflow.keras.utils import to_categorical\n",
        "y_train = to_categorical(y_train)\n",
        "y_train.shape"
      ],
      "metadata": {
        "id": "mp9bP2nY8Zi8",
        "colab": {
          "base_uri": "https://localhost:8080/"
        },
        "outputId": "3c5fa514-6945-4a59-f1ed-d7d5ce47dde7"
      },
      "execution_count": null,
      "outputs": [
        {
          "output_type": "execute_result",
          "data": {
            "text/plain": [
              "(105, 3)"
            ]
          },
          "metadata": {},
          "execution_count": 29
        }
      ]
    },
    {
      "cell_type": "code",
      "source": [
        "from tensorflow import keras\n",
        "from tensorflow.keras import layers\n",
        "\n",
        "model = keras.Sequential()\n",
        "model.add( layers.Dense(64, activation='relu', input_shape=(3,)))\n",
        "model.add( layers.Dense(3, activation='softmax'))"
      ],
      "metadata": {
        "id": "WSphrGyb8efm"
      },
      "execution_count": null,
      "outputs": []
    },
    {
      "cell_type": "code",
      "source": [
        "# loss 함수 정하기\n",
        "# model.compile( ... )\n",
        "model.compile(optimizer='rmsprop', loss='categorical_crossentropy', metrics=['accuracy'])"
      ],
      "metadata": {
        "id": "sxREZDHK8g3T"
      },
      "execution_count": null,
      "outputs": []
    },
    {
      "cell_type": "code",
      "source": [
        "# 학습하기\n",
        "# model.fit( ... )\n",
        "model.fit(x_train, y_train, epochs = 5)"
      ],
      "metadata": {
        "id": "rl9-Ua3_81rx",
        "colab": {
          "base_uri": "https://localhost:8080/"
        },
        "outputId": "c865aa71-3d62-455d-84bb-20e6dd6f9dfd"
      },
      "execution_count": null,
      "outputs": [
        {
          "output_type": "stream",
          "name": "stdout",
          "text": [
            "Epoch 1/5\n",
            "4/4 [==============================] - 0s 3ms/step - loss: 1.3701 - accuracy: 0.3238\n",
            "Epoch 2/5\n",
            "4/4 [==============================] - 0s 2ms/step - loss: 1.0776 - accuracy: 0.3333\n",
            "Epoch 3/5\n",
            "4/4 [==============================] - 0s 2ms/step - loss: 1.0044 - accuracy: 0.6571\n",
            "Epoch 4/5\n",
            "4/4 [==============================] - 0s 2ms/step - loss: 0.9619 - accuracy: 0.5238\n",
            "Epoch 5/5\n",
            "4/4 [==============================] - 0s 3ms/step - loss: 0.9365 - accuracy: 0.6952\n"
          ]
        },
        {
          "output_type": "execute_result",
          "data": {
            "text/plain": [
              "<keras.src.callbacks.History at 0x7910ae2dc130>"
            ]
          },
          "metadata": {},
          "execution_count": 32
        }
      ]
    }
  ]
}