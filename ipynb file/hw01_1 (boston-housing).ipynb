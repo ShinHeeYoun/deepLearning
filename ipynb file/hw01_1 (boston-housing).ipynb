{
  "nbformat": 4,
  "nbformat_minor": 0,
  "metadata": {
    "colab": {
      "provenance": []
    },
    "kernelspec": {
      "name": "python3",
      "display_name": "Python 3"
    },
    "language_info": {
      "name": "python"
    }
  },
  "cells": [
    {
      "cell_type": "markdown",
      "source": [
        "데이터명 : Boston Housing Price (보스턴 주택 가격 데이터)\n",
        "\n",
        "데이터설명 : 보스턴 시의 주택 가격에 대한 데이터이다.\n",
        "주택의 여러가진 요건들과 주택의 가격 정보가 포함되어 있다. 주택의 가격에 영향을 미치는 요소를 분석하고자 하는 목적으로 사용될 수 있다. 회귀분석 등의 분석에 활용될 수 있다.\n",
        "\n",
        "보스턴 주택 데이터는 여러 개의 측정지표들 (예를 들어, 범죄율, 학생/교사 비율 등)을 포함한, 보스턴 인근의 주택 가격의 중앙값(median value)이다. 이 데이터 집합은 14개의 변수를 포함하고 있다.\n",
        "\n",
        "필드의 이해 :\n",
        "데이터의 이해를 돕기 위해 포함된 14개의 변수에 대하여 간략하게 설명한다.  \n",
        "위 14개의 필드는 입력 변수로 사용되고, 맨 아래의 Play 속성이 목표(종속) 변수로 사용된다.\n",
        "\n",
        " [01]  CRIM\t자치시(town) 별 1인당 범죄율\n",
        "\n",
        " [02]  ZN\t25,000 평방피트를 초과하는 거주지역의 비율\n",
        "\n",
        " [03]  INDUS\t비소매상업지역이 점유하고 있는 토지의 비율\n",
        "\n",
        " [04]  CHAS\t찰스강에 대한 더미변수(강의 경계에 위치한 경우는 1, 아니면 0)\n",
        "\n",
        " [05]  NOX\t10ppm 당 농축 일산화질소\n",
        "\n",
        " [06]  RM\t주택 1가구당 평균 방의 개수\n",
        "\n",
        " [07]  AGE\t1940년 이전에 건축된 소유주택의 비율\n",
        "\n",
        " [08]  DIS\t5개의 보스턴 직업센터까지의 접근성 지수\n",
        "\n",
        " [09]  RAD\t방사형 도로까지의 접근성 지수\n",
        "\n",
        " [10]  TAX\t10,000 달러 당 재산세율\n",
        "\n",
        " [11]  PTRATIO\t자치시(town)별 학생/교사 비율\n",
        "\n",
        " [12]  B\t1000(Bk-0.63)^2, 여기서 Bk는 자치시별 흑인의 비율을 말함.\n",
        "\n",
        " [13]  LSTAT\t모집단의 하위계층의 비율(%)\n",
        "\n",
        " [14]  MEDV\t본인 소유의 주택가격(중앙값) (단위: $1,000)"
      ],
      "metadata": {
        "id": "qhXYsxx4-t8t"
      }
    },
    {
      "cell_type": "code",
      "execution_count": null,
      "metadata": {
        "id": "e8LhnVKA7_J_",
        "colab": {
          "base_uri": "https://localhost:8080/"
        },
        "outputId": "b5ceaaa9-2b75-439c-bd8c-bbaaaf135a69"
      },
      "outputs": [
        {
          "output_type": "stream",
          "name": "stdout",
          "text": [
            "Downloading data from https://storage.googleapis.com/tensorflow/tf-keras-datasets/boston_housing.npz\n",
            "57026/57026 [==============================] - 0s 0us/step\n"
          ]
        }
      ],
      "source": [
        "import tensorflow as tf\n",
        "(x_train, y_train), (x_test, y_test) = tf.keras.datasets.boston_housing.load_data()"
      ]
    },
    {
      "cell_type": "code",
      "source": [
        "#train_data.shape\n",
        "print(x_train.shape)\n",
        "x_train[1]"
      ],
      "metadata": {
        "id": "5V0iwWU28Ngp",
        "colab": {
          "base_uri": "https://localhost:8080/"
        },
        "outputId": "d05a90c3-94fd-4acb-ff18-fdb79adca8e9"
      },
      "execution_count": null,
      "outputs": [
        {
          "output_type": "stream",
          "name": "stdout",
          "text": [
            "(404, 13)\n"
          ]
        },
        {
          "output_type": "execute_result",
          "data": {
            "text/plain": [
              "array([2.1770e-02, 8.2500e+01, 2.0300e+00, 0.0000e+00, 4.1500e-01,\n",
              "       7.6100e+00, 1.5700e+01, 6.2700e+00, 2.0000e+00, 3.4800e+02,\n",
              "       1.4700e+01, 3.9538e+02, 3.1100e+00])"
            ]
          },
          "metadata": {},
          "execution_count": 4
        }
      ]
    },
    {
      "cell_type": "code",
      "source": [
        "#train_label.shape\n",
        "y_train.shape\n",
        "y_train[:10]"
      ],
      "metadata": {
        "id": "UKT_douo8PEW",
        "colab": {
          "base_uri": "https://localhost:8080/"
        },
        "outputId": "994f6196-288c-4869-a4e2-ade10fe1cd82"
      },
      "execution_count": null,
      "outputs": [
        {
          "output_type": "execute_result",
          "data": {
            "text/plain": [
              "array([15.2, 42.3, 50. , 21.1, 17.7, 18.5, 11.3, 15.6, 15.6, 14.4])"
            ]
          },
          "metadata": {},
          "execution_count": 5
        }
      ]
    },
    {
      "cell_type": "code",
      "source": [
        "#train_data[0:5]\n",
        "from sklearn.preprocessing import StandardScaler, MinMaxScaler\n",
        "print(\"before scaling : \", x_train[:3])\n",
        "# 표준화\n",
        "# 입력 데이터를 학습을 해서 자동으로 표준화 시켜줌\n",
        "sc = StandardScaler()\n",
        "sc.fit(x_train)\n",
        "x_train = sc.transform(x_train)\n",
        "print(\"after scaling : \", x_train[:3])"
      ],
      "metadata": {
        "id": "y66vw2NO8ShU",
        "colab": {
          "base_uri": "https://localhost:8080/"
        },
        "outputId": "e6c6d5ce-c603-4229-bcb1-9c1766664707"
      },
      "execution_count": null,
      "outputs": [
        {
          "output_type": "stream",
          "name": "stdout",
          "text": [
            "before scaling :  [[1.23247e+00 0.00000e+00 8.14000e+00 0.00000e+00 5.38000e-01 6.14200e+00\n",
            "  9.17000e+01 3.97690e+00 4.00000e+00 3.07000e+02 2.10000e+01 3.96900e+02\n",
            "  1.87200e+01]\n",
            " [2.17700e-02 8.25000e+01 2.03000e+00 0.00000e+00 4.15000e-01 7.61000e+00\n",
            "  1.57000e+01 6.27000e+00 2.00000e+00 3.48000e+02 1.47000e+01 3.95380e+02\n",
            "  3.11000e+00]\n",
            " [4.89822e+00 0.00000e+00 1.81000e+01 0.00000e+00 6.31000e-01 4.97000e+00\n",
            "  1.00000e+02 1.33250e+00 2.40000e+01 6.66000e+02 2.02000e+01 3.75520e+02\n",
            "  3.26000e+00]]\n",
            "after scaling :  [[-0.27224633 -0.48361547 -0.43576161 -0.25683275 -0.1652266  -0.1764426\n",
            "   0.81306188  0.1166983  -0.62624905 -0.59517003  1.14850044  0.44807713\n",
            "   0.8252202 ]\n",
            " [-0.40342651  2.99178419 -1.33391162 -0.25683275 -1.21518188  1.89434613\n",
            "  -1.91036058  1.24758524 -0.85646254 -0.34843254 -1.71818909  0.43190599\n",
            "  -1.32920239]\n",
            " [ 0.1249402  -0.48361547  1.0283258  -0.25683275  0.62864202 -1.82968811\n",
            "   1.11048828 -1.18743907  1.67588577  1.5652875   0.78447637  0.22061726\n",
            "  -1.30850006]]\n"
          ]
        }
      ]
    },
    {
      "cell_type": "code",
      "source": [
        "#train_label[0:5]\n",
        "\n",
        "print(\"before scaling : \", y_train[:3])\n",
        "y_train = y_train.reshape(404, 1)\n",
        "# 표준화\n",
        "# 입력 데이터를 학습을 해서 자동으로 표준화 시켜줌\n",
        "sc = StandardScaler()\n",
        "sc.fit(y_train)\n",
        "y_train = sc.transform(y_train)\n",
        "print(\"after scaling : \", y_train[:3])\n"
      ],
      "metadata": {
        "id": "mp9bP2nY8Zi8",
        "colab": {
          "base_uri": "https://localhost:8080/"
        },
        "outputId": "679f5b60-297c-43ee-be21-fd755d83293a"
      },
      "execution_count": null,
      "outputs": [
        {
          "output_type": "stream",
          "name": "stdout",
          "text": [
            "before scaling :  [15.2 42.3 50. ]\n",
            "after scaling :  [[-0.7821526 ]\n",
            " [ 2.16380844]\n",
            " [ 3.00085272]]\n"
          ]
        }
      ]
    },
    {
      "cell_type": "code",
      "source": [
        "# 학습 모델 만들기\n",
        "from tensorflow import keras\n",
        "from tensorflow.keras import layers\n",
        "model = keras.Sequential()\n",
        "model.add( layers.Dense(64, activation='relu', input_shape=(13,)))\n",
        "model.add( layers.Dense(1, activation='linear'))"
      ],
      "metadata": {
        "id": "WSphrGyb8efm"
      },
      "execution_count": null,
      "outputs": []
    },
    {
      "cell_type": "code",
      "source": [
        "# loss 함수 정하기\n",
        "# model.compile( ... )\n",
        "model.compile(optimizer='rmsprop', loss='mse', metrics=['mae'])"
      ],
      "metadata": {
        "id": "sxREZDHK8g3T"
      },
      "execution_count": null,
      "outputs": []
    },
    {
      "cell_type": "code",
      "source": [
        "# 학습하기\n",
        "# model.fit( ... )\n",
        "model.fit(x_train, y_train, epochs = 25)"
      ],
      "metadata": {
        "id": "rl9-Ua3_81rx",
        "colab": {
          "base_uri": "https://localhost:8080/"
        },
        "outputId": "b4c96ba4-6edb-4b39-abf2-49f3cada0ed2"
      },
      "execution_count": null,
      "outputs": [
        {
          "output_type": "stream",
          "name": "stdout",
          "text": [
            "Epoch 1/25\n",
            "13/13 [==============================] - 1s 2ms/step - loss: 1.3363 - mae: 0.8915\n",
            "Epoch 2/25\n",
            "13/13 [==============================] - 0s 2ms/step - loss: 0.7078 - mae: 0.6232\n",
            "Epoch 3/25\n",
            "13/13 [==============================] - 0s 2ms/step - loss: 0.5010 - mae: 0.4949\n",
            "Epoch 4/25\n",
            "13/13 [==============================] - 0s 2ms/step - loss: 0.3973 - mae: 0.4261\n",
            "Epoch 5/25\n",
            "13/13 [==============================] - 0s 2ms/step - loss: 0.3279 - mae: 0.3785\n",
            "Epoch 6/25\n",
            "13/13 [==============================] - 0s 3ms/step - loss: 0.2790 - mae: 0.3502\n",
            "Epoch 7/25\n",
            "13/13 [==============================] - 0s 2ms/step - loss: 0.2433 - mae: 0.3319\n",
            "Epoch 8/25\n",
            "13/13 [==============================] - 0s 2ms/step - loss: 0.2190 - mae: 0.3140\n",
            "Epoch 9/25\n",
            "13/13 [==============================] - 0s 2ms/step - loss: 0.2027 - mae: 0.3073\n",
            "Epoch 10/25\n",
            "13/13 [==============================] - 0s 2ms/step - loss: 0.1908 - mae: 0.2925\n",
            "Epoch 11/25\n",
            "13/13 [==============================] - 0s 2ms/step - loss: 0.1788 - mae: 0.2912\n",
            "Epoch 12/25\n",
            "13/13 [==============================] - 0s 2ms/step - loss: 0.1699 - mae: 0.2850\n",
            "Epoch 13/25\n",
            "13/13 [==============================] - 0s 2ms/step - loss: 0.1643 - mae: 0.2838\n",
            "Epoch 14/25\n",
            "13/13 [==============================] - 0s 2ms/step - loss: 0.1570 - mae: 0.2721\n",
            "Epoch 15/25\n",
            "13/13 [==============================] - 0s 2ms/step - loss: 0.1519 - mae: 0.2688\n",
            "Epoch 16/25\n",
            "13/13 [==============================] - 0s 2ms/step - loss: 0.1442 - mae: 0.2665\n",
            "Epoch 17/25\n",
            "13/13 [==============================] - 0s 2ms/step - loss: 0.1415 - mae: 0.2622\n",
            "Epoch 18/25\n",
            "13/13 [==============================] - 0s 2ms/step - loss: 0.1368 - mae: 0.2585\n",
            "Epoch 19/25\n",
            "13/13 [==============================] - 0s 1ms/step - loss: 0.1344 - mae: 0.2548\n",
            "Epoch 20/25\n",
            "13/13 [==============================] - 0s 2ms/step - loss: 0.1310 - mae: 0.2498\n",
            "Epoch 21/25\n",
            "13/13 [==============================] - 0s 1ms/step - loss: 0.1297 - mae: 0.2500\n",
            "Epoch 22/25\n",
            "13/13 [==============================] - 0s 2ms/step - loss: 0.1260 - mae: 0.2470\n",
            "Epoch 23/25\n",
            "13/13 [==============================] - 0s 1ms/step - loss: 0.1218 - mae: 0.2411\n",
            "Epoch 24/25\n",
            "13/13 [==============================] - 0s 2ms/step - loss: 0.1207 - mae: 0.2409\n",
            "Epoch 25/25\n",
            "13/13 [==============================] - 0s 2ms/step - loss: 0.1185 - mae: 0.2408\n"
          ]
        },
        {
          "output_type": "execute_result",
          "data": {
            "text/plain": [
              "<keras.src.callbacks.History at 0x7ea6b9754310>"
            ]
          },
          "metadata": {},
          "execution_count": 13
        }
      ]
    }
  ]
}